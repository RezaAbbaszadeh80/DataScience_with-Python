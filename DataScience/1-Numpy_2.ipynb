{
 "cells": [
  {
   "cell_type": "markdown",
   "metadata": {},
   "source": [
    "# Numpy (قسمت دوم)\n",
    "## سایر اعمال روی ماتریس ها"
   ]
  },
  {
   "cell_type": "code",
   "execution_count": 1,
   "metadata": {},
   "outputs": [],
   "source": [
    "import numpy as np\n",
    "import math "
   ]
  },
  {
   "cell_type": "code",
   "execution_count": 2,
   "metadata": {},
   "outputs": [
    {
     "name": "stdout",
     "output_type": "stream",
     "text": [
      "array_1: \n",
      " [5 0 3 3 7 9] \n",
      "\n",
      "array_2 :\n",
      "  [[3 5 2 4]\n",
      " [7 6 8 8]\n",
      " [1 6 7 7]] \n",
      "\n",
      "array_3 :\n",
      "  [[[8 1 5 9 8]\n",
      "  [9 4 3 0 3]\n",
      "  [5 0 2 3 8]\n",
      "  [1 3 3 3 7]]\n",
      "\n",
      " [[0 1 9 9 0]\n",
      "  [4 7 3 2 7]\n",
      "  [2 0 0 4 5]\n",
      "  [5 6 8 4 1]]\n",
      "\n",
      " [[4 9 8 1 1]\n",
      "  [7 9 9 3 6]\n",
      "  [7 2 0 3 5]\n",
      "  [9 4 4 6 4]]] \n",
      "\n"
     ]
    }
   ],
   "source": [
    "np.random.seed(0) # ==> تولید مجدد دیتا\n",
    "\n",
    "ar_1 = np.random.randint(10,size = 6) # یک آرایه یک بعدی  با 6 تا عدد\n",
    "ar_2 = np.random.randint(10,size = (3,4)) # یک آرایه دو بعدی با 3 سطر و 4 ستون\n",
    "ar_3 = np.random.randint(10,size = (3,4,5)) # یک آرایه 3 بعدی در 3 تا در 4سطر و 5 ستون\n",
    "\n",
    "print('array_1: \\n',ar_1,'\\n')\n",
    "print('array_2 :\\n ',ar_2,'\\n')\n",
    "print('array_3 :\\n ',ar_3,'\\n')"
   ]
  },
  {
   "cell_type": "markdown",
   "metadata": {},
   "source": [
    "# اطلاعات بیشتر در مورد ماتریس"
   ]
  },
  {
   "cell_type": "code",
   "execution_count": 3,
   "metadata": {},
   "outputs": [
    {
     "name": "stdout",
     "output_type": "stream",
     "text": [
      "ar_3 ndim : 3\n",
      "ar_3 shape : (3, 4, 5)\n",
      "ar_3 size : 60\n",
      "ar_3 dtype: int32\n",
      "item size :  4 bytes\n",
      "nbytes :  240 bytes\n"
     ]
    }
   ],
   "source": [
    "print(f'ar_3 ndim : {ar_3.ndim}') # number of dimension\n",
    "print(f'ar_3 shape : {ar_3.shape}')\n",
    "print(f'ar_3 size : {ar_3.size}') #==> 3*4*5\n",
    "\n",
    "print(f'ar_3 dtype: {ar_3.dtype}') #==> data type\n",
    "print('item size : ',ar_3.itemsize,'bytes')\n",
    "print('nbytes : ',ar_3.nbytes,'bytes')"
   ]
  },
  {
   "cell_type": "code",
   "execution_count": 4,
   "metadata": {},
   "outputs": [
    {
     "name": "stdout",
     "output_type": "stream",
     "text": [
      "5 \n",
      "\n",
      "[3 5 2 4]\n",
      "3\n",
      "7 \n",
      "\n",
      "[[8 1 5 9 8]\n",
      " [9 4 3 0 3]\n",
      " [5 0 2 3 8]\n",
      " [1 3 3 3 7]] \n",
      "\n",
      "[8 1 5 9 8] \n",
      "\n",
      "8 \n",
      "\n",
      "3\n"
     ]
    }
   ],
   "source": [
    "print(ar_1[0],'\\n')\n",
    "\n",
    "print(ar_2[0]) # یعنی سطر 0\n",
    "print(ar_2[0,0]) # (0,0) یعنی عنصر\n",
    "ar_2[0,0] = 7 # عوض کرن یا دستکاری آرایه\n",
    "print(ar_2[0,0],'\\n') # (0,0) یعنی عنصر\n",
    "\n",
    "print(ar_3[0],'\\n')\n",
    "print(ar_3[0,0],'\\n' )\n",
    "print(ar_3[0,0,0],'\\n' )\n",
    "\n",
    "ar_3[0,0,0] = np.pi # عدد اعشاری هست\n",
    "print(ar_3[0,0,0]) # ==> در نظر گرفتیم int به عدد 3 تغییر میده در حالی که باید به 3.1415 تغییر بده و این علتش اینه که بالا از نوع "
   ]
  },
  {
   "cell_type": "markdown",
   "metadata": {},
   "source": [
    "# slice\n",
    "\n",
    "## یک بعدی"
   ]
  },
  {
   "cell_type": "code",
   "execution_count": 5,
   "metadata": {},
   "outputs": [
    {
     "data": {
      "text/plain": [
       "array([1, 2, 3, 4])"
      ]
     },
     "execution_count": 5,
     "metadata": {},
     "output_type": "execute_result"
    }
   ],
   "source": [
    "x = np.arange(1,10)\n",
    "\n",
    "x[:4]"
   ]
  },
  {
   "cell_type": "code",
   "execution_count": 6,
   "metadata": {},
   "outputs": [
    {
     "data": {
      "text/plain": [
       "array([5, 6, 7])"
      ]
     },
     "execution_count": 6,
     "metadata": {},
     "output_type": "execute_result"
    }
   ],
   "source": [
    "x[4:7]"
   ]
  },
  {
   "cell_type": "code",
   "execution_count": 7,
   "metadata": {},
   "outputs": [
    {
     "data": {
      "text/plain": [
       "array([1, 3, 5, 7, 9])"
      ]
     },
     "execution_count": 7,
     "metadata": {},
     "output_type": "execute_result"
    }
   ],
   "source": [
    "x[::2]"
   ]
  },
  {
   "cell_type": "code",
   "execution_count": 8,
   "metadata": {},
   "outputs": [
    {
     "data": {
      "text/plain": [
       "array([2, 4, 6, 8])"
      ]
     },
     "execution_count": 8,
     "metadata": {},
     "output_type": "execute_result"
    }
   ],
   "source": [
    "x[1::2]"
   ]
  },
  {
   "cell_type": "code",
   "execution_count": 9,
   "metadata": {},
   "outputs": [
    {
     "data": {
      "text/plain": [
       "array([9, 8, 7, 6, 5, 4, 3, 2, 1])"
      ]
     },
     "execution_count": 9,
     "metadata": {},
     "output_type": "execute_result"
    }
   ],
   "source": [
    "x[::-1] # همه مقادیر برعکس می شوند"
   ]
  },
  {
   "cell_type": "markdown",
   "metadata": {},
   "source": [
    "## چند بعدی"
   ]
  },
  {
   "cell_type": "code",
   "execution_count": 10,
   "metadata": {},
   "outputs": [
    {
     "name": "stdout",
     "output_type": "stream",
     "text": [
      "[[7 5 2 4]\n",
      " [7 6 8 8]\n",
      " [1 6 7 7]] \n",
      "\n"
     ]
    }
   ],
   "source": [
    "print(ar_2,'\\n') # برای خود تابع پرینت نیست با اون فرق داره این مقداریه مثل بقیه چیز ها end الان اون\\n این "
   ]
  },
  {
   "cell_type": "code",
   "execution_count": 11,
   "metadata": {},
   "outputs": [
    {
     "name": "stdout",
     "output_type": "stream",
     "text": [
      "[7 7 1]\n"
     ]
    }
   ],
   "source": [
    "print(ar_2[:,0]) # همه سطر ها و ستون 0"
   ]
  },
  {
   "cell_type": "code",
   "execution_count": 12,
   "metadata": {},
   "outputs": [
    {
     "name": "stdout",
     "output_type": "stream",
     "text": [
      "[[7 5 2]\n",
      " [7 6 8]]\n"
     ]
    }
   ],
   "source": [
    "print(ar_2 [:2,:3]) # یعنی دو سطر و سه ستون)"
   ]
  },
  {
   "cell_type": "code",
   "execution_count": 13,
   "metadata": {},
   "outputs": [
    {
     "data": {
      "text/plain": [
       "array([[7, 2],\n",
       "       [7, 8],\n",
       "       [1, 7]])"
      ]
     },
     "execution_count": 13,
     "metadata": {},
     "output_type": "execute_result"
    }
   ],
   "source": [
    "ar_2[:3,::2] # تمامی سطر ها و ستون ها یکی در میان"
   ]
  },
  {
   "cell_type": "code",
   "execution_count": 14,
   "metadata": {},
   "outputs": [
    {
     "data": {
      "text/plain": [
       "array([[7, 7, 6, 1],\n",
       "       [8, 8, 6, 7],\n",
       "       [4, 2, 5, 7]])"
      ]
     },
     "execution_count": 14,
     "metadata": {},
     "output_type": "execute_result"
    }
   ],
   "source": [
    "ar_2[::-1,::-1]  # یعنی جای همه عناصر سطر ها باهم برعکس بشه و همچنین برای ستون ها هم برعکس شوند"
   ]
  },
  {
   "cell_type": "markdown",
   "metadata": {},
   "source": [
    "# عملگرهای ریاضی"
   ]
  },
  {
   "cell_type": "code",
   "execution_count": 15,
   "metadata": {},
   "outputs": [
    {
     "name": "stdout",
     "output_type": "stream",
     "text": [
      "جمع دو آرایه:\n",
      "[5 7 9]\n",
      "\n",
      "تفریق دو آرایه:\n",
      "[-3 -3 -3]\n",
      "\n",
      "ضرب دو آرایه:\n",
      "[ 4 10 18]\n",
      "\n",
      "تقسیم دو آرایه:\n",
      "[0.25 0.4  0.5 ]\n"
     ]
    }
   ],
   "source": [
    "import numpy as np\n",
    "\n",
    "# جمع دو آرایه\n",
    "arr1 = np.array([1, 2, 3])\n",
    "arr2 = np.array([4, 5, 6])\n",
    "result_add = np.add(arr1, arr2)\n",
    "print(\"جمع دو آرایه:\")\n",
    "print(result_add)\n",
    "\n",
    "# تفریق دو آرایه\n",
    "result_subtract = np.subtract(arr1, arr2)\n",
    "print(\"\\nتفریق دو آرایه:\")\n",
    "print(result_subtract)\n",
    "\n",
    "# ضرب دو آرایه\n",
    "result_multiply = np.multiply(arr1, arr2)\n",
    "print(\"\\nضرب دو آرایه:\")\n",
    "print(result_multiply)\n",
    "\n",
    "# تقسیم دو آرایه\n",
    "result_divide = np.divide(arr1, arr2)\n",
    "print(\"\\nتقسیم دو آرایه:\")\n",
    "print(result_divide)\n"
   ]
  },
  {
   "cell_type": "markdown",
   "metadata": {},
   "source": [
    "# عملگرهای مقایسه‌ای"
   ]
  },
  {
   "cell_type": "code",
   "execution_count": 16,
   "metadata": {},
   "outputs": [
    {
     "name": "stdout",
     "output_type": "stream",
     "text": [
      "برابری دو آرایه:\n",
      "[ True False  True]\n",
      "\n",
      "نابرابری دو آرایه:\n",
      "[False  True False]\n",
      "\n",
      "بزرگتر بودن اولین آرایه نسبت به دومین آرایه:\n",
      "[False False False]\n",
      "\n",
      "کوچکتر بودن اولین آرایه نسبت به دومین آرایه:\n",
      "[False  True False]\n"
     ]
    }
   ],
   "source": [
    "# برابری دو آرایه\n",
    "arr1 = np.array([1, 2, 3])\n",
    "arr2 = np.array([1, 5, 3])\n",
    "result_equal = np.equal(arr1, arr2)\n",
    "print(\"برابری دو آرایه:\")\n",
    "print(result_equal)\n",
    "\n",
    "# نابرابری دو آرایه\n",
    "result_not_equal = np.not_equal(arr1, arr2)\n",
    "print(\"\\nنابرابری دو آرایه:\")\n",
    "print(result_not_equal)\n",
    "\n",
    "# بزرگتر بودن اولین آرایه نسبت به دومین آرایه\n",
    "result_greater = np.greater(arr1, arr2)\n",
    "print(\"\\nبزرگتر بودن اولین آرایه نسبت به دومین آرایه:\")\n",
    "print(result_greater)\n",
    "\n",
    "# کوچکتر بودن اولین آرایه نسبت به دومین آرایه\n",
    "result_less = np.less(arr1, arr2)\n",
    "print(\"\\nکوچکتر بودن اولین آرایه نسبت به دومین آرایه:\")\n",
    "print(result_less)"
   ]
  },
  {
   "cell_type": "markdown",
   "metadata": {},
   "source": [
    "# عملیات روی آرایه ها (Vectorization)  \n",
    "\n",
    "# آرایه های یک بعدی"
   ]
  },
  {
   "cell_type": "code",
   "execution_count": 17,
   "metadata": {},
   "outputs": [
    {
     "name": "stdout",
     "output_type": "stream",
     "text": [
      "آرایه اول: [1 2 3 4 5]\n",
      "آرایه دوم: [10 20 30 40 50]\n",
      "جمع برداری دو آرایه: [11 22 33 44 55]\n",
      "ضرب برداری دو آرایه: [ 10  40  90 160 250]\n"
     ]
    }
   ],
   "source": [
    "array1 = np.array([1, 2, 3, 4, 5])\n",
    "array2 = np.array([10, 20, 30, 40, 50])\n",
    "\n",
    "# جمع عناصر دو آرایه به صورت برداری\n",
    "result_vectorized_addition = array1 + array2\n",
    "\n",
    "# ضرب عناصر دو آرایه به صورت برداری\n",
    "result_vectorized_multiplication = array1 * array2\n",
    "\n",
    "# چاپ نتایج\n",
    "print(\"آرایه اول:\", array1)\n",
    "print(\"آرایه دوم:\", array2)\n",
    "print(\"جمع برداری دو آرایه:\", result_vectorized_addition)\n",
    "print(\"ضرب برداری دو آرایه:\", result_vectorized_multiplication)"
   ]
  },
  {
   "cell_type": "markdown",
   "metadata": {},
   "source": [
    "# ارایه های دو بعدی و بالاتر"
   ]
  },
  {
   "cell_type": "code",
   "execution_count": 18,
   "metadata": {},
   "outputs": [
    {
     "name": "stdout",
     "output_type": "stream",
     "text": [
      "[[1 2 3]\n",
      " [4 5 6]] \n",
      "\n",
      "[[ 7  8  9]\n",
      " [10 11 12]] \n",
      "\n",
      "suarr_2ion : \n",
      " [[ 8 10 12]\n",
      " [14 16 18]] \n",
      "\n",
      "subtract : [[-6 -6 -6]\n",
      " [-6 -6 -6]]\n",
      "foreign multiplication  : \n",
      " [[ 7 16 27]\n",
      " [40 55 72]]\n",
      "\n",
      "divide: [[0.14285714 0.25       0.33333333]\n",
      " [0.4        0.45454545 0.5       ]]\n",
      "inner prodoct : \n",
      " [[ 58  64]\n",
      " [139 154]]\n",
      "inner prodoct : \n",
      " [[ 58  64]\n",
      " [139 154]]\n",
      "--------------------------------------------------------------\n",
      "sum rows :    [ 6 15]\n",
      "sum columns : [5 7 9]\n",
      "[[ 1  3  6]\n",
      " [ 4  9 15]]\n",
      "[[1 2 3]\n",
      " [5 7 9]]\n"
     ]
    }
   ],
   "source": [
    "\n",
    "\n",
    "A = np.arange(1,7).reshape(2,3)\n",
    "B = np.arange(7,13).reshape(2,3)\n",
    "\n",
    "print(A , '\\n')\n",
    "print(B , '\\n')\n",
    "\n",
    "print(f'suarr_2ion : \\n {A+B} \\n')  # به صورت عنصر به عنصر  و حق نداریم که ابعاد ماتریس ها متفاوت باشه\n",
    "print(f'subtract : {A-B}')  \n",
    "print(f'foreign multiplication  : \\n {A * B}\\n') # برای ضرب خارجی باید ابعاد برابر باشند \n",
    "print(f'divide: {A/B}')\n",
    "\n",
    "# (n,k),(k,m)->(n,m)  توجه : برای ضرب داخلی باید رعایت بشه \n",
    "# می کنیم که ابعاد مثل هم نشوند تا عملیات ضرب  داخلی انجام بشه B پس الان مثال بالا رو بخش \n",
    "# نتیجه ضرب داخلی یک عدد هست نه یک بردار\n",
    "\n",
    "A = np.arange(1,7).reshape(2,3)\n",
    "B = np.arange(7,13).reshape(3,2)            \n",
    "print(f'inner prodoct : \\n {A @ B}')\n",
    "print(f'inner prodoct : \\n {A.dot(B)}')\n",
    "\n",
    "# الان دیگه این ها از کار افتادند چون ابعاد برابر نشدند و خطا خواهیم داشت\n",
    "# print(f'suarr_2ion : {A+B}')  \n",
    "# print(f'subtract : {A-B}') \n",
    "# print(f'divide: {A/B}')\n",
    "\n",
    "print('--------------------------------------------------------------')\n",
    "\n",
    "A = np.arange(1,7).reshape(2,3) #  [[1 2 3]\n",
    "# #                                  [4 5 6]]\n",
    "\n",
    "print(f\"sum rows :    {A.sum(axis= 1)}\")  # برای جمع کردن سطر ها \n",
    "print(f\"sum columns : {A.sum(axis= 0)}\")  # برای جمع کردن ستون ها \n",
    "\n",
    "print(A.cumsum(axis= 1)) # جمع انباشتگی سطری  یعنی اولیین خونه خودشه بقیه عناصر هارو با قبلی جمع می کنه میزاره اون جا  و ستون اخر همون جمع سطر ها میشه اگر دقت کنی همون ماتریس  اولی در میاد ستون آخرش\n",
    "print(A.cumsum(axis= 0)) # این دفعه ستون ها رو با هم جمع می کنه سطر اولی میمونه سطر دومیا میشوند جمع خودشون با بالایی ها\n"
   ]
  },
  {
   "cell_type": "markdown",
   "metadata": {},
   "source": [
    "------------------\n",
    "# 1- ضرب اسکالر"
   ]
  },
  {
   "cell_type": "code",
   "execution_count": 19,
   "metadata": {},
   "outputs": [
    {
     "name": "stdout",
     "output_type": "stream",
     "text": [
      "[[[ 2]\n",
      "  [ 4]\n",
      "  [ 6]]\n",
      "\n",
      " [[ 8]\n",
      "  [10]\n",
      "  [12]]]\n",
      "[[[ 2]\n",
      "  [ 4]\n",
      "  [ 6]]\n",
      "\n",
      " [[ 8]\n",
      "  [10]\n",
      "  [12]]]\n",
      "[[[0.5]\n",
      "  [1. ]\n",
      "  [1.5]]\n",
      "\n",
      " [[2. ]\n",
      "  [2.5]\n",
      "  [3. ]]]\n",
      "--------------------\n"
     ]
    }
   ],
   "source": [
    "# یکی از قابلیت های ارایه در نامپای بر خلاف لیست های معمولی در پایتون اینه که این امکان رو دارید\n",
    "# تا در یک مرجله عملیات ریاضی رو به تمام ایتم های یک ارایه اعمال کنید\n",
    "\n",
    "arr = np.array([[[1], [2], [3]], [[4], [5], [6]]])\n",
    "\n",
    "print(arr * 2)\n",
    "print(arr + arr)\n",
    "print(arr / 2.0)\n",
    "\n",
    "print('--------------------')"
   ]
  },
  {
   "cell_type": "markdown",
   "metadata": {},
   "source": [
    "# 2- ضرب بردار- ماتریسی"
   ]
  },
  {
   "cell_type": "code",
   "execution_count": 20,
   "metadata": {},
   "outputs": [
    {
     "name": "stdout",
     "output_type": "stream",
     "text": [
      "بردار:\n",
      "[1 2 3]\n",
      "\n",
      "ماتریس:\n",
      "[[ 4  5  6]\n",
      " [ 7  8  9]\n",
      " [10 11 12]]\n",
      "\n",
      "نتیجه ضرب بردار در ماتریس:\n",
      "[32 50 68]\n"
     ]
    }
   ],
   "source": [
    "\n",
    "# تعریف یک بردار\n",
    "vector = np.array([1, 2, 3])\n",
    "\n",
    "# تعریف یک ماتریس\n",
    "arr_2rix = np.array([[4, 5, 6],\n",
    "                   [7, 8, 9],\n",
    "                   [10, 11, 12]])\n",
    "\n",
    "# ضرب بردار در ماتریس\n",
    "result = np.dot(arr_2rix, vector)\n",
    "\n",
    "# یا با استفاده از عملگر @\n",
    "# result = arr_2rix @ vector\n",
    "\n",
    "print(\"بردار:\")\n",
    "print(vector)\n",
    "print(\"\\nماتریس:\")\n",
    "print(arr_2rix)\n",
    "print(\"\\nنتیجه ضرب بردار در ماتریس:\")\n",
    "print(result)\n"
   ]
  },
  {
   "cell_type": "markdown",
   "metadata": {},
   "source": [
    "# 3- ضرب داخلی بردارها - ضرب ماتریس در بردار - ضرب دو ماتریس"
   ]
  },
  {
   "cell_type": "code",
   "execution_count": 21,
   "metadata": {},
   "outputs": [
    {
     "name": "stdout",
     "output_type": "stream",
     "text": [
      "219\n",
      "219\n",
      "\n",
      "[29 67]\n",
      "[29 67]\n",
      "\n",
      "[[19 22]\n",
      " [43 50]]\n",
      "[[19 22]\n",
      " [43 50]]\n"
     ]
    }
   ],
   "source": [
    "x = np.array([[1,2],[3,4]])\n",
    "y = np.array([[5,6],[7,8]])\n",
    "\n",
    "v = np.array([9,10])\n",
    "w = np.array([11, 12])\n",
    "\n",
    "# Inner product of vectors; both produce 219\n",
    "print(v.dot(w))\n",
    "print(np.dot(v, w))\n",
    "print()\n",
    "\n",
    "\n",
    "# arr_2rix / vector product; both produce the rank 1 array [29 67]\n",
    "print(x.dot(v))\n",
    "print(np.dot(x, v))\n",
    "print()\n",
    "\n",
    "# arr_2rix / arr_2rix product; both produce the rank 2 array\n",
    "# [[19 22]\n",
    "#  [43 50]]\n",
    "print(x.dot(y))\n",
    "print(np.dot(x, y))"
   ]
  },
  {
   "cell_type": "markdown",
   "metadata": {},
   "source": [
    "## جمع بندی مطالب بالا با یک مثال"
   ]
  },
  {
   "cell_type": "code",
   "execution_count": 22,
   "metadata": {},
   "outputs": [
    {
     "name": "stdout",
     "output_type": "stream",
     "text": [
      "suarr_2ion :\n",
      "[[ 6.  8.]\n",
      " [10. 12.]]\n",
      "[[ 6.  8.]\n",
      " [10. 12.]]\n",
      "\n",
      "subtract :\n",
      "[[-4. -4.]\n",
      " [-4. -4.]]\n",
      "[[-4. -4.]\n",
      " [-4. -4.]]\n",
      "\n",
      "foreign multiplication : \n",
      "[[ 5. 12.]\n",
      " [21. 32.]]\n",
      "[[ 5. 12.]\n",
      " [21. 32.]]\n",
      "\n",
      "inner prodoct dot :\n",
      "[[19. 22.]\n",
      " [43. 50.]]\n",
      "[[19. 22.]\n",
      " [43. 50.]]\n",
      "\n",
      "divide: \n",
      "[[0.2        0.33333333]\n",
      " [0.42857143 0.5       ]]\n",
      "[[0.2        0.33333333]\n",
      " [0.42857143 0.5       ]]\n",
      "\n",
      "sqrt: \n",
      "[[1.         1.41421356]\n",
      " [1.73205081 2.        ]]\n",
      "\n",
      "[[ 6.  8.]\n",
      " [10. 12.]]\n",
      "[[ 6.  8.]\n",
      " [10. 12.]]\n",
      "\n",
      "subtract :\n",
      "[[-4. -4.]\n",
      " [-4. -4.]]\n",
      "[[-4. -4.]\n",
      " [-4. -4.]]\n",
      "\n",
      "foreign multiplication : \n",
      "[[ 5. 12.]\n",
      " [21. 32.]]\n",
      "[[ 5. 12.]\n",
      " [21. 32.]]\n",
      "\n",
      "inner prodoct dot :\n",
      "[[19. 22.]\n",
      " [43. 50.]]\n",
      "[[19. 22.]\n",
      " [43. 50.]]\n",
      "\n",
      "divide: \n",
      "[[0.2        0.33333333]\n",
      " [0.42857143 0.5       ]]\n",
      "[[0.2        0.33333333]\n",
      " [0.42857143 0.5       ]]\n",
      "\n",
      "sqrt: \n",
      "[[1.         1.41421356]\n",
      " [1.73205081 2.        ]]\n"
     ]
    }
   ],
   "source": [
    "# هم ساخت arange میشد با \n",
    "x = np.array([[1,2],[3,4]], dtype=np.float64) # x :  [[1. 2.][3. 4.]]\n",
    "y = np.array([[5,6],[7,8]], dtype=np.float64) # y :  [[5. 6.][7. 8.]]\n",
    "\n",
    "\n",
    "print(f'suarr_2ion :')  # به صورت عنصر به عنصر عمل می کنه\n",
    "# جمع المانی که هر باعث ایجاد یک ارایه میشود\n",
    "# [[ 6.0  8.0]\n",
    "#  [10.0 12.0]]\n",
    "print(x + y)\n",
    "print(np.add(x, y))\n",
    "print()\n",
    "\n",
    "print(f'subtract :') \n",
    "# تفریق المانی که باعث ایجاد یک ارایه میشود\n",
    "# [[-4.0 -4.0]\n",
    "#  [-4.0 -4.0]]\n",
    "print(x - y)\n",
    "print(np.subtract(x, y))\n",
    "print()\n",
    "\n",
    "print(f'foreign multiplication : ') # ضرب خارجی \n",
    "# ضرب المانی که باعث ایجاد یک ارایه میشود\n",
    "# [[ 5.0 12.0]\n",
    "#  [21.0 32.0]]\n",
    "print(x * y) # ضرب خارجی \n",
    "print(np.multiply(x, y))# ضرب خارجی \n",
    "print()\n",
    "\n",
    "print(f'inner prodoct dot :') \n",
    "# ضرب داخلی که باعث ایجاد یک ارایه میشود\n",
    "# [[19. 22.]\n",
    "#  [43. 50.]]\n",
    "print( x@y) # ضرب داخلی\n",
    "print(x.dot(y)) # ضرب داخلی\n",
    "print()\n",
    "\n",
    "print(f'divide: ')\n",
    "# تقسیم المانی که باعث ایجاد یک ارایه میشود\n",
    "# [[ 0.2         0.33333333]\n",
    "#  [ 0.42857143  0.5       ]]\n",
    "print(x / y)\n",
    "print(np.divide(x, y))\n",
    "print()\n",
    "\n",
    "print(f'sqrt: ')\n",
    "# ریشه مربعی المانی که باعث ایجاد یک ارایه میشود\n",
    "# [[ 1.          1.41421356]\n",
    "#  [ 1.73205081  2.        ]]\n",
    "print(np.sqrt(x))"
   ]
  },
  {
   "cell_type": "markdown",
   "metadata": {},
   "source": [
    "------------------------\n",
    "# Transpose (ترانهاده)"
   ]
  },
  {
   "cell_type": "code",
   "execution_count": 23,
   "metadata": {},
   "outputs": [
    {
     "name": "stdout",
     "output_type": "stream",
     "text": [
      "A : \n",
      " [[1 2]\n",
      " [3 4]\n",
      " [5 6]]\n",
      "Transpose A :\n",
      " [[1 3 5]\n",
      " [2 4 6]]\n",
      "Transpose A :\n",
      " [[1 3 5]\n",
      " [2 4 6]]\n"
     ]
    }
   ],
   "source": [
    "A = np.array([\n",
    "    [1, 2],\n",
    "    [3, 4],\n",
    "    [5,6]\n",
    "])\n",
    "\n",
    "print('A : \\n',A)\n",
    "\n",
    "B = A.T\n",
    "print('Transpose A :\\n',B)\n",
    "\n",
    "B = A.transpose()\n",
    "print('Transpose A :\\n',B)"
   ]
  },
  {
   "cell_type": "markdown",
   "metadata": {},
   "source": [
    "# Inverse (معکوس)"
   ]
  },
  {
   "cell_type": "code",
   "execution_count": 24,
   "metadata": {},
   "outputs": [
    {
     "name": "stdout",
     "output_type": "stream",
     "text": [
      "A : \n",
      " [[1 2]\n",
      " [3 4]]\n",
      "B :\n",
      " [[-2.   1. ]\n",
      " [ 1.5 -0.5]]\n",
      "Inverse A :\n",
      " [[1.0000000e+00 0.0000000e+00]\n",
      " [8.8817842e-16 1.0000000e+00]]\n"
     ]
    }
   ],
   "source": [
    "A=np.array([\n",
    "    [1,2],\n",
    "    [3,4]\n",
    "])\n",
    "\n",
    "print('A : \\n',A)\n",
    "\n",
    "B=np.linalg.inv(A)\n",
    "print('B :\\n',B)\n",
    "\n",
    "C = A.dot(B)\n",
    "print('Inverse A :\\n',C)"
   ]
  },
  {
   "cell_type": "markdown",
   "metadata": {},
   "source": [
    "# قطر های اصلی و فرعی"
   ]
  },
  {
   "cell_type": "code",
   "execution_count": 25,
   "metadata": {},
   "outputs": [
    {
     "name": "stdout",
     "output_type": "stream",
     "text": [
      "عناصر قطر اصلی A:\n",
      " [1 5 9]\n",
      "عناصر قطر اصلی A:\n",
      " [2 6]\n"
     ]
    }
   ],
   "source": [
    "A = np.array([\n",
    "    [1, 2, 3],\n",
    "    [4, 5, 6],\n",
    "    [7, 8, 9]\n",
    "])\n",
    "\n",
    "# مجموعه ای از عناصر قطر اصلی\n",
    "diag_second = np.diag(A,k=0) # ==> پیشفرض همین 0 هست\n",
    "print('عناصر قطر اصلی A:\\n', diag_second)\n",
    "\n",
    "# مجموعه ای از عناصر قطر دوم (زیر قطر اصلی)\n",
    "diag_second = np.diag(A,k=1)\n",
    "print('عناصر قطر اصلی A:\\n', diag_second)"
   ]
  },
  {
   "cell_type": "markdown",
   "metadata": {},
   "source": [
    "# Trace (جمع عناصر روی قطر اصلی و فرعی)"
   ]
  },
  {
   "cell_type": "code",
   "execution_count": 26,
   "metadata": {},
   "outputs": [
    {
     "name": "stdout",
     "output_type": "stream",
     "text": [
      "A : \n",
      " [[1 2 3]\n",
      " [4 5 6]\n",
      " [7 8 9]]\n",
      "جمع عناصر قطر اصلی A : \n",
      " 15\n",
      "جمع عناصر قطر دوم A:\n",
      " 8\n"
     ]
    }
   ],
   "source": [
    "A = np.array([\n",
    "    [1,2,3],\n",
    "    [4,5,6],\n",
    "    [7,8,9]\n",
    "])\n",
    "\n",
    "print('A : \\n',A)\n",
    "\n",
    "B = np.trace(A)\n",
    "print('جمع عناصر قطر اصلی A : \\n',B)\n",
    "\n",
    "# مجموعه ای از عناصر قطر دوم (زیر قطر اصلی)\n",
    "diag_second = np.diag(A,k=1)\n",
    "s = sum(diag_second)\n",
    "print('جمع عناصر قطر دوم A:\\n', s)"
   ]
  },
  {
   "cell_type": "markdown",
   "metadata": {},
   "source": [
    "# محاسبه میانگین هر سطر "
   ]
  },
  {
   "cell_type": "code",
   "execution_count": 27,
   "metadata": {},
   "outputs": [
    {
     "name": "stdout",
     "output_type": "stream",
     "text": [
      "Mean of each row: [[3.33333333]\n",
      " [4.66666667]] \n",
      "\n"
     ]
    }
   ],
   "source": [
    "arr_2 = np.matrix([[-1, 4, 7], [4, 9, 1]])\n",
    "row_means = np.mean(arr_2, axis=1)\n",
    "print(\"Mean of each row:\", row_means, '\\n')\n"
   ]
  },
  {
   "cell_type": "markdown",
   "metadata": {},
   "source": [
    "# محاسبه میانگین هرستون "
   ]
  },
  {
   "cell_type": "code",
   "execution_count": 28,
   "metadata": {},
   "outputs": [
    {
     "name": "stdout",
     "output_type": "stream",
     "text": [
      "Mean of each row: [[3.33333333]\n",
      " [4.66666667]] \n",
      "\n"
     ]
    }
   ],
   "source": [
    "arr_2 = np.matrix([[-1,4,7],[4,9,1]])\n",
    "row_means = np.mean(arr_2, axis=1)\n",
    "print(\"Mean of each row:\", row_means , '\\n')"
   ]
  },
  {
   "cell_type": "markdown",
   "metadata": {},
   "source": [
    "# Deteminant (دترمینان)"
   ]
  },
  {
   "cell_type": "code",
   "execution_count": 29,
   "metadata": {},
   "outputs": [
    {
     "name": "stdout",
     "output_type": "stream",
     "text": [
      "determinant is : 0.0\n"
     ]
    }
   ],
   "source": [
    "A = np.array([\n",
    "    [1, 2, 3],\n",
    "    [4, 5, 6],\n",
    "    [7, 8, 9]\n",
    "])\n",
    "\n",
    "B = np.linalg.det(A)\n",
    "print(f'determinant is : {B}')"
   ]
  },
  {
   "cell_type": "markdown",
   "metadata": {},
   "source": [
    "----------------------------\n",
    "# ریاضی"
   ]
  },
  {
   "cell_type": "code",
   "execution_count": 30,
   "metadata": {},
   "outputs": [],
   "source": [
    "# sin محاسبه بسط تیلور برای تابع \n",
    "\n",
    "# sin(x)≈ x - x^3/3! + x^5/5! - x^7/7! + x^9/9!\n",
    "\n",
    "# x = float(input('x = '))\n",
    "# sum = 0\n",
    "# for i in range(5):  # مثلا تا جمله پنجم\n",
    "#     sum = sum + np.power(-1,i) * np.power(x , 2*i +1 ) / math.factorial(2*i +1)\n",
    "# print(f'sin({x}) = {np.sin(x)} , \\t  sum = {sum}')  #  نمایش مقدار واقعی تابع سینوس و مقدار محاسبه شده\n",
    "\n",
    "# print('-----------------------')\n",
    "\n",
    "# روی ماتریس e محاسبه لگاریتم با مبنا طبیعی یا \n",
    "\n",
    "# A = np.arange(1,7).reshape(2,3) \n",
    "# print(np.log(A))  \n",
    "\n",
    "# تغییر مبنا لگاریتم به اعشاری یا همون 10\n",
    "\n",
    "# A = np.arange(1,7).reshape(2,3)\n",
    "# print(np.log10(A))\n",
    "\n",
    "# مبنای 2\n",
    "# A = np.arange(1,7).reshape(2,3)\n",
    "# print(np.log2(A))\n",
    "\n",
    "\n",
    "# print('-----------------------')\n",
    "\n",
    "# با این کار اون علامت براکت بیرونی میپره چون یک حلقه داره رویش اعمال میشه\n",
    "\n",
    "# A = np.arange(1,15).reshape(7,2)\n",
    "# print(A)\n",
    "\n",
    "# for element in A :\n",
    "#     print(element)\n",
    "\n",
    "# print('-----------------------')\n",
    "\n",
    "# محاسبه جمع سینسوس اعداد رادیکال ۱ تا ۹\n",
    "# sum = 0\n",
    "# for i in range(10):\n",
    "#     sum = sum + np.sin(np.sqrt(i))   \n",
    "# print(sum)\n",
    "\n",
    "# print('-----------------------')\n",
    "\n",
    "# هم استفاده می کنیم math تابع فاکتوریل رو نداره پس برای این که دچار مشکل نشیم در کنارش از ماژول numpy \n",
    " # numpy بالا گفته بودم به درد میخوره ایمپورتش کن چون بعضی از توابع رو نداره \n",
    "# print(math.factorial(10)) \n",
    "\n",
    "\n",
    "# print(np.exp(1.0)) # تابع exponential\n",
    "# print(np.pi) # تابع عدد پی\n",
    "# print(np.sqrt(4)) "
   ]
  },
  {
   "cell_type": "code",
   "execution_count": 31,
   "metadata": {},
   "outputs": [],
   "source": [
    "# import numpy as np\n",
    "# import math\n",
    "\n",
    "# # 1. جمع دو عدد\n",
    "# num1 = 5\n",
    "# num2 = 3\n",
    "# result_sum = np.add(num1, num2)\n",
    "# print(\"1. جمع دو عدد:\", result_sum)\n",
    "\n",
    "# # 2. ضرب دو عدد\n",
    "# num1 = 4\n",
    "# num2 = 6\n",
    "# result_multiply = np.multiply(num1, num2)\n",
    "# print(\"2. ضرب دو عدد:\", result_multiply)\n",
    "\n",
    "# # 3. تقسیم دو عدد\n",
    "# num1 = 8\n",
    "# num2 = 2\n",
    "# result_divide = np.divide(num1, num2)\n",
    "# print(\"3. تقسیم دو عدد:\", result_divide)\n",
    "\n",
    "# # 4. توان دو عدد\n",
    "# num1 = 2\n",
    "# num2 = 3\n",
    "# result_power = np.power(num1, num2)\n",
    "# print(\"4. توان دو عدد:\", result_power)\n",
    "\n",
    "# # 5. معکوس یک عدد\n",
    "# num = 4\n",
    "# result_reciprocal = np.reciprocal(num)\n",
    "# print(\"5. معکوس عدد:\", result_reciprocal)\n",
    "\n",
    "# # 6. محاسبه بسط تیلور برای تابع sin(x)\n",
    "# x = float(input('x = '))\n",
    "# sum_taylor = 0\n",
    "# for i in range(5):  # مثلا تا جمله پنجم\n",
    "#     sum_taylor += np.power(-1, i) * np.power(x, 2*i + 1) / math.factorial(2*i + 1)\n",
    "# print(f'sin({x}) بسط تیلور = {sum_taylor} , \\t sin({x}) واقعی = {np.sin(x)}')\n",
    "\n",
    "# # 7. محاسبه لگاریتم با مبنا طبیعی\n",
    "# A = np.arange(1, 7).reshape(2, 3)\n",
    "# print(\"لگاریتم با مبنای e:\")\n",
    "# print(np.log(A))\n",
    "\n",
    "# # 8. تغییر مبنا لگاریتم به اعشاری یا همون 10\n",
    "# print(\"لگاریتم با مبنای 10:\")\n",
    "# print(np.log10(A))\n",
    "\n",
    "# # 9. مبنای 2\n",
    "# print(\"لگاریتم با مبنای 2:\")\n",
    "# print(np.log2(A))\n",
    "\n",
    "# # 10. چاپ عناصر ماتریس\n",
    "# print('ماتریس A:')\n",
    "# print(A)\n",
    "# print('عناصر ماتریس به صورت تکی:')\n",
    "# for element in A:\n",
    "#     print(element)\n",
    "\n",
    "# # 11. محاسبه جمع سینوس اعداد رادیکال ۱ تا ۹\n",
    "# sum_sine = 0\n",
    "# for i in range(10):\n",
    "#     sum_sine += np.sin(np.sqrt(i))\n",
    "# print(\"جمع سینوس اعداد رادیکال ۱ تا ۹:\", sum_sine)\n",
    "\n",
    "# # 12. استفاده از تابع exponential\n",
    "# print(\"تابع exponential از عدد ۱:\", np.exp(1.0))\n",
    "\n",
    "# # 13. استفاده از عدد پی\n",
    "# print(\"عدد پی:\", np.pi)\n",
    "\n",
    "# # 14. محاسبه جذر یک عدد\n",
    "# print(\"جذر ۴:\", np.sqrt(4))\n"
   ]
  }
 ],
 "metadata": {
  "kernelspec": {
   "display_name": "Python 3",
   "language": "python",
   "name": "python3"
  },
  "language_info": {
   "codemirror_mode": {
    "name": "ipython",
    "version": 3
   },
   "file_extension": ".py",
   "mimetype": "text/x-python",
   "name": "python",
   "nbconvert_exporter": "python",
   "pygments_lexer": "ipython3",
   "version": "3.12.0"
  }
 },
 "nbformat": 4,
 "nbformat_minor": 2
}
